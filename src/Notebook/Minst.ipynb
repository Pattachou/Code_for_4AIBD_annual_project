{
 "cells": [
  {
   "cell_type": "code",
   "execution_count": 2,
   "metadata": {},
   "outputs": [],
   "source": [
    "from sagemaker import get_execution_role\n",
    "\n",
    "role = get_execution_role()\n",
    "bucket='sage-maker-bucket-pmc'"
   ]
  },
  {
   "cell_type": "code",
   "execution_count": 4,
   "metadata": {
    "scrolled": true
   },
   "outputs": [
    {
     "name": "stdout",
     "output_type": "stream",
     "text": [
      "CPU times: user 828 ms, sys: 308 ms, total: 1.14 s\n",
      "Wall time: 2.21 s\n"
     ]
    }
   ],
   "source": [
    "%%time\n",
    "import pickle, gzip, numpy, urllib.request, json\n",
    "\n",
    "# Load the dataset\n",
    "urllib.request.urlretrieve(\"http://deeplearning.net/data/mnist/mnist.pkl.gz\", \"mnist.pkl.gz\")\n",
    "with gzip.open('mnist.pkl.gz', 'rb') as f:\n",
    "    train_set, valid_set, test_set = pickle.load(f, encoding='latin1')"
   ]
  },
  {
   "cell_type": "code",
   "execution_count": 13,
   "metadata": {},
   "outputs": [
    {
     "data": {
      "image/png": "[encoded data removed]",
      "text/plain": [
       "<Figure size 144x720 with 1 Axes>"
      ]
     },
     "metadata": {},
     "output_type": "display_data"
    }
   ],
   "source": [
    "%matplotlib inline\n",
    "import matplotlib.pyplot as plt\n",
    "plt.rcParams[\"figure.figsize\"] = (2,10)\n",
    "\n",
    "\n",
    "def show_digit(img, caption='', subplot=None):\n",
    "    if subplot==None:\n",
    "        _,(subplot)=plt.subplots(1,1)\n",
    "    imgr=img.reshape((28,28))\n",
    "    subplot.axis('off')\n",
    "    subplot.imshow(imgr, cmap='gray')\n",
    "    plt.title(caption)\n",
    "\n",
    "show_digit(train_set[0][30], 'This is a {}'.format(train_set[1][30]))"
   ]
  },
  {
   "cell_type": "code",
   "execution_count": 14,
   "metadata": {},
   "outputs": [
    {
     "name": "stdout",
     "output_type": "stream",
     "text": [
      "training data will be uploaded to: s3://sage-maker-bucket-pmc/kmeans_lowlevel_example/data\n",
      "CPU times: user 7.84 s, sys: 264 ms, total: 8.11 s\n",
      "Wall time: 9.46 s\n"
     ]
    }
   ],
   "source": [
    "%%time\n",
    "from sagemaker.amazon.common import write_numpy_to_dense_tensor\n",
    "import io\n",
    "import boto3\n",
    "\n",
    "data_key = 'kmeans_lowlevel_example/data'\n",
    "data_location = 's3://{}/{}'.format(bucket, data_key)\n",
    "print('training data will be uploaded to: {}'.format(data_location))\n",
    "\n",
    "# Convert the training data into the format required by the SageMaker KMeans algorithm\n",
    "buf = io.BytesIO()\n",
    "write_numpy_to_dense_tensor(buf, train_set[0], train_set[1])\n",
    "buf.seek(0)\n",
    "\n",
    "boto3.resource('s3').Bucket(bucket).Object(data_key).upload_fileobj(buf)"
   ]
  },
  {
   "cell_type": "code",
   "execution_count": 16,
   "metadata": {},
   "outputs": [
    {
     "name": "stdout",
     "output_type": "stream",
     "text": [
      "training data will be uploaded to: s3://sage-maker-bucket-pmc/kmeans_highlevel_example/data\n",
      "training artifacts will be uploaded to: s3://sage-maker-bucket-pmc/kmeans_example/output\n"
     ]
    }
   ],
   "source": [
    "from sagemaker import KMeans\n",
    "\n",
    "data_location = 's3://{}/kmeans_highlevel_example/data'.format(bucket)\n",
    "output_location = 's3://{}/kmeans_example/output'.format(bucket)\n",
    "\n",
    "print('training data will be uploaded to: {}'.format(data_location))\n",
    "print('training artifacts will be uploaded to: {}'.format(output_location))\n",
    "\n",
    "kmeans = KMeans(role=role,\n",
    "                train_instance_count=2,\n",
    "                train_instance_type='ml.c4.8xlarge',\n",
    "                output_path=output_location,\n",
    "                k=10,\n",
    "                data_location=data_location)"
   ]
  },
  {
   "cell_type": "code",
   "execution_count": 17,
   "metadata": {},
   "outputs": [
    {
     "name": "stderr",
     "output_type": "stream",
     "text": [
      "INFO:sagemaker:Creating training-job with name: kmeans-2018-07-12-17-56-34-937\n"
     ]
    },
    {
     "name": "stdout",
     "output_type": "stream",
     "text": [
      "..........................\n",
      "\u001b[31mDocker entrypoint called with argument(s): train\u001b[0m\n",
      "\u001b[32mDocker entrypoint called with argument(s): train\u001b[0m\n",
      "\u001b[31m[07/12/2018 18:00:48 INFO 139957363558208] Reading default configuration from /opt/amazon/lib/python2.7/site-packages/algorithm/default-input.json: {u'_tuning_objective_metric': u'', u'_num_gpus': u'auto', u'local_lloyd_num_trials': u'auto', u'_log_level': u'info', u'_kvstore': u'auto', u'local_lloyd_init_method': u'kmeans++', u'force_dense': u'true', u'epochs': u'1', u'init_method': u'random', u'local_lloyd_tol': u'0.0001', u'local_lloyd_max_iter': u'300', u'_disable_wait_to_read': u'false', u'extra_center_factor': u'auto', u'eval_metrics': u'[\"msd\"]', u'_num_kv_servers': u'1', u'mini_batch_size': u'5000', u'half_life_time_size': u'0', u'_num_slices': u'1'}\u001b[0m\n",
      "\u001b[31m[07/12/2018 18:00:48 INFO 139957363558208] Reading provided configuration from /opt/ml/input/config/hyperparameters.json: {u'feature_dim': u'784', u'k': u'10', u'force_dense': u'True'}\u001b[0m\n",
      "\u001b[31m[07/12/2018 18:00:48 INFO 139957363558208] Final configuration: {u'k': u'10', u'_tuning_objective_metric': u'', u'_num_gpus': u'auto', u'local_lloyd_num_trials': u'auto', u'_log_level': u'info', u'_kvstore': u'auto', u'local_lloyd_init_method': u'kmeans++', u'force_dense': u'True', u'epochs': u'1', u'init_method': u'random', u'feature_dim': u'784', u'local_lloyd_tol': u'0.0001', u'local_lloyd_max_iter': u'300', u'_disable_wait_to_read': u'false', u'extra_center_factor': u'auto', u'eval_metrics': u'[\"msd\"]', u'_num_kv_servers': u'1', u'mini_batch_size': u'5000', u'half_life_time_size': u'0', u'_num_slices': u'1'}\u001b[0m\n",
      "\u001b[31m[07/12/2018 18:00:48 WARNING 139957363558208] Loggers have already been setup.\u001b[0m\n",
      "\u001b[31m[07/12/2018 18:00:48 INFO 139957363558208] Launching parameter server for role scheduler\u001b[0m\n",
      "\u001b[31m[07/12/2018 18:00:48 INFO 139957363558208] {'PROTOCOL_BUFFERS_PYTHON_IMPLEMENTATION_VERSION': '2', 'PATH': '/opt/amazon/bin:/usr/local/nvidia/bin:/usr/local/sbin:/usr/local/bin:/usr/sbin:/usr/bin:/sbin:/bin:/opt/amazon/bin:/opt/amazon/bin', 'SAGEMAKER_HTTP_PORT': '8080', 'HOME': '/root', 'PYTHONUNBUFFERED': 'TRUE', 'CANONICAL_ENVROOT': '/opt/amazon', 'LD_LIBRARY_PATH': '/usr/local/nvidia/lib64:/opt/amazon/lib', 'MXNET_KVSTORE_BIGARRAY_BOUND': '400000000', 'LANG': 'en_US.utf8', 'DMLC_INTERFACE': 'ethwe', 'SHLVL': '1', 'AWS_REGION': 'us-east-1', 'NVIDIA_VISIBLE_DEVICES': 'all', 'TRAINING_JOB_NAME': 'kmeans-2018-07-12-17-56-34-937', 'PROTOCOL_BUFFERS_PYTHON_IMPLEMENTATION': 'cpp', 'ENVROOT': '/opt/amazon', 'SAGEMAKER_DATA_PATH': '/opt/ml', 'NVIDIA_DRIVER_CAPABILITIES': 'compute,utility', 'NVIDIA_REQUIRE_CUDA': 'cuda>=9.0', 'OMP_NUM_THREADS': '18', 'HOSTNAME': 'aws', 'AWS_CONTAINER_CREDENTIALS_RELATIVE_URI': '/v2/credentials/d6592a8c-2b24-493b-afe4-64504385b6cc', 'PWD': '/'}\u001b[0m\n",
      "\u001b[31m[07/12/2018 18:00:48 INFO 139957363558208] envs={'PROTOCOL_BUFFERS_PYTHON_IMPLEMENTATION_VERSION': '2', 'DMLC_NUM_WORKER': '2', 'DMLC_PS_ROOT_PORT': '9000', 'PATH': '/opt/amazon/bin:/usr/local/nvidia/bin:/usr/local/sbin:/usr/local/bin:/usr/sbin:/usr/bin:/sbin:/bin:/opt/amazon/bin:/opt/amazon/bin', 'SAGEMAKER_HTTP_PORT': '8080', 'HOME': '/root', 'PYTHONUNBUFFERED': 'TRUE', 'CANONICAL_ENVROOT': '/opt/amazon', 'LD_LIBRARY_PATH': '/usr/local/nvidia/lib64:/opt/amazon/lib', 'MXNET_KVSTORE_BIGARRAY_BOUND': '400000000', 'LANG': 'en_US.utf8', 'DMLC_INTERFACE': 'ethwe', 'SHLVL': '1', 'DMLC_PS_ROOT_URI': '10.32.0.4', 'AWS_REGION': 'us-east-1', 'NVIDIA_VISIBLE_DEVICES': 'all', 'TRAINING_JOB_NAME': 'kmeans-2018-07-12-17-56-34-937', 'PROTOCOL_BUFFERS_PYTHON_IMPLEMENTATION': 'cpp', 'ENVROOT': '/opt/amazon', 'SAGEMAKER_DATA_PATH': '/opt/ml', 'NVIDIA_DRIVER_CAPABILITIES': 'compute,utility', 'NVIDIA_REQUIRE_CUDA': 'cuda>=9.0', 'OMP_NUM_THREADS': '18', 'HOSTNAME': 'aws', 'AWS_CONTAINER_CREDENTIALS_RELATIVE_URI': '/v2/credentials/d6592a8c-2b24-493b-afe4-64504385b6cc', 'DMLC_ROLE': 'scheduler', 'PWD': '/', 'DMLC_NUM_SERVER': '1'}\u001b[0m\n",
      "\u001b[31m[07/12/2018 18:00:48 INFO 139957363558208] Launching parameter server for role server\u001b[0m\n",
      "\u001b[31m[07/12/2018 18:00:48 INFO 139957363558208] {'PROTOCOL_BUFFERS_PYTHON_IMPLEMENTATION_VERSION': '2', 'PATH': '/opt/amazon/bin:/usr/local/nvidia/bin:/usr/local/sbin:/usr/local/bin:/usr/sbin:/usr/bin:/sbin:/bin:/opt/amazon/bin:/opt/amazon/bin', 'SAGEMAKER_HTTP_PORT': '8080', 'HOME': '/root', 'PYTHONUNBUFFERED': 'TRUE', 'CANONICAL_ENVROOT': '/opt/amazon', 'LD_LIBRARY_PATH': '/usr/local/nvidia/lib64:/opt/amazon/lib', 'MXNET_KVSTORE_BIGARRAY_BOUND': '400000000', 'LANG': 'en_US.utf8', 'DMLC_INTERFACE': 'ethwe', 'SHLVL': '1', 'AWS_REGION': 'us-east-1', 'NVIDIA_VISIBLE_DEVICES': 'all', 'TRAINING_JOB_NAME': 'kmeans-2018-07-12-17-56-34-937', 'PROTOCOL_BUFFERS_PYTHON_IMPLEMENTATION': 'cpp', 'ENVROOT': '/opt/amazon', 'SAGEMAKER_DATA_PATH': '/opt/ml', 'NVIDIA_DRIVER_CAPABILITIES': 'compute,utility', 'NVIDIA_REQUIRE_CUDA': 'cuda>=9.0', 'OMP_NUM_THREADS': '18', 'HOSTNAME': 'aws', 'AWS_CONTAINER_CREDENTIALS_RELATIVE_URI': '/v2/credentials/d6592a8c-2b24-493b-afe4-64504385b6cc', 'PWD': '/'}\u001b[0m\n",
      "\u001b[31m[07/12/2018 18:00:48 INFO 139957363558208] envs={'PROTOCOL_BUFFERS_PYTHON_IMPLEMENTATION_VERSION': '2', 'DMLC_NUM_WORKER': '2', 'DMLC_PS_ROOT_PORT': '9000', 'PATH': '/opt/amazon/bin:/usr/local/nvidia/bin:/usr/local/sbin:/usr/local/bin:/usr/sbin:/usr/bin:/sbin:/bin:/opt/amazon/bin:/opt/amazon/bin', 'SAGEMAKER_HTTP_PORT': '8080', 'HOME': '/root', 'PYTHONUNBUFFERED': 'TRUE', 'CANONICAL_ENVROOT': '/opt/amazon', 'LD_LIBRARY_PATH': '/usr/local/nvidia/lib64:/opt/amazon/lib', 'MXNET_KVSTORE_BIGARRAY_BOUND': '400000000', 'LANG': 'en_US.utf8', 'DMLC_INTERFACE': 'ethwe', 'SHLVL': '1', 'DMLC_PS_ROOT_URI': '10.32.0.4', 'AWS_REGION': 'us-east-1', 'NVIDIA_VISIBLE_DEVICES': 'all', 'TRAINING_JOB_NAME': 'kmeans-2018-07-12-17-56-34-937', 'PROTOCOL_BUFFERS_PYTHON_IMPLEMENTATION': 'cpp', 'ENVROOT': '/opt/amazon', 'SAGEMAKER_DATA_PATH': '/opt/ml', 'NVIDIA_DRIVER_CAPABILITIES': 'compute,utility', 'NVIDIA_REQUIRE_CUDA': 'cuda>=9.0', 'OMP_NUM_THREADS': '18', 'HOSTNAME': 'aws', 'AWS_CONTAINER_CREDENTIALS_RELATIVE_URI': '/v2/credentials/d6592a8c-2b24-493b-afe4-64504385b6cc', 'DMLC_ROLE': 'server', 'PWD': '/', 'DMLC_NUM_SERVER': '1'}\u001b[0m\n",
      "\u001b[31m[07/12/2018 18:00:48 INFO 139957363558208] Environment: {'PROTOCOL_BUFFERS_PYTHON_IMPLEMENTATION_VERSION': '2', 'DMLC_PS_ROOT_PORT': '9000', 'DMLC_NUM_WORKER': '2', 'SAGEMAKER_HTTP_PORT': '8080', 'HOME': '/root', 'PYTHONUNBUFFERED': 'TRUE', 'CANONICAL_ENVROOT': '/opt/amazon', 'LD_LIBRARY_PATH': '/usr/local/nvidia/lib64:/opt/amazon/lib', 'MXNET_KVSTORE_BIGARRAY_BOUND': '400000000', 'LANG': 'en_US.utf8', 'DMLC_INTERFACE': 'ethwe', 'SHLVL': '1', 'DMLC_PS_ROOT_URI': '10.32.0.4', 'AWS_REGION': 'us-east-1', 'NVIDIA_VISIBLE_DEVICES': 'all', 'TRAINING_JOB_NAME': 'kmeans-2018-07-12-17-56-34-937', 'PATH': '/opt/amazon/bin:/usr/local/nvidia/bin:/usr/local/sbin:/usr/local/bin:/usr/sbin:/usr/bin:/sbin:/bin:/opt/amazon/bin:/opt/amazon/bin', 'PROTOCOL_BUFFERS_PYTHON_IMPLEMENTATION': 'cpp', 'ENVROOT': '/opt/amazon', 'SAGEMAKER_DATA_PATH': '/opt/ml', 'NVIDIA_DRIVER_CAPABILITIES': 'compute,utility', 'NVIDIA_REQUIRE_CUDA': 'cuda>=9.0', 'OMP_NUM_THREADS': '18', 'HOSTNAME': 'aws', 'AWS_CONTAINER_CREDENTIALS_RELATIVE_URI': '/v2/credentials/d6592a8c-2b24-493b-afe4-64504385b6cc', 'DMLC_ROLE': 'worker', 'PWD': '/', 'DMLC_NUM_SERVER': '1'}\u001b[0m\n",
      "\u001b[31m[07/12/2018 18:00:48 INFO 139957363558208] Using default worker.\u001b[0m\n",
      "\u001b[31m[07/12/2018 18:00:48 INFO 139957363558208] Loaded iterator creator application/x-recordio-protobuf for content type ('application/x-recordio-protobuf', '1.0')\u001b[0m\n",
      "\u001b[31m[07/12/2018 18:00:48 INFO 139957363558208] Create Store: dist_async\u001b[0m\n",
      "\u001b[32m[07/12/2018 18:00:48 INFO 140212887562048] Reading default configuration from /opt/amazon/lib/python2.7/site-packages/algorithm/default-input.json: {u'_tuning_objective_metric': u'', u'_num_gpus': u'auto', u'local_lloyd_num_trials': u'auto', u'_log_level': u'info', u'_kvstore': u'auto', u'local_lloyd_init_method': u'kmeans++', u'force_dense': u'true', u'epochs': u'1', u'init_method': u'random', u'local_lloyd_tol': u'0.0001', u'local_lloyd_max_iter': u'300', u'_disable_wait_to_read': u'false', u'extra_center_factor': u'auto', u'eval_metrics': u'[\"msd\"]', u'_num_kv_servers': u'1', u'mini_batch_size': u'5000', u'half_life_time_size': u'0', u'_num_slices': u'1'}\u001b[0m\n",
      "\u001b[32m[07/12/2018 18:00:48 INFO 140212887562048] Reading provided configuration from /opt/ml/input/config/hyperparameters.json: {u'feature_dim': u'784', u'k': u'10', u'force_dense': u'True'}\u001b[0m\n",
      "\u001b[32m[07/12/2018 18:00:48 INFO 140212887562048] Final configuration: {u'k': u'10', u'_tuning_objective_metric': u'', u'_num_gpus': u'auto', u'local_lloyd_num_trials': u'auto', u'_log_level': u'info', u'_kvstore': u'auto', u'local_lloyd_init_method': u'kmeans++', u'force_dense': u'True', u'epochs': u'1', u'init_method': u'random', u'feature_dim': u'784', u'local_lloyd_tol': u'0.0001', u'local_lloyd_max_iter': u'300', u'_disable_wait_to_read': u'false', u'extra_center_factor': u'auto', u'eval_metrics': u'[\"msd\"]', u'_num_kv_servers': u'1', u'mini_batch_size': u'5000', u'half_life_time_size': u'0', u'_num_slices': u'1'}\u001b[0m\n",
      "\u001b[32m[07/12/2018 18:00:48 WARNING 140212887562048] Loggers have already been setup.\u001b[0m\n",
      "\u001b[32m[07/12/2018 18:00:48 INFO 140212887562048] Environment: {'PROTOCOL_BUFFERS_PYTHON_IMPLEMENTATION_VERSION': '2', 'DMLC_PS_ROOT_PORT': '9000', 'DMLC_NUM_WORKER': '2', 'SAGEMAKER_HTTP_PORT': '8080', 'HOME': '/root', 'PYTHONUNBUFFERED': 'TRUE', 'CANONICAL_ENVROOT': '/opt/amazon', 'LD_LIBRARY_PATH': '/usr/local/nvidia/lib64:/opt/amazon/lib', 'MXNET_KVSTORE_BIGARRAY_BOUND': '400000000', 'LANG': 'en_US.utf8', 'DMLC_INTERFACE': 'ethwe', 'SHLVL': '1', 'DMLC_PS_ROOT_URI': '10.32.0.4', 'AWS_REGION': 'us-east-1', 'NVIDIA_VISIBLE_DEVICES': 'all', 'TRAINING_JOB_NAME': 'kmeans-2018-07-12-17-56-34-937', 'PATH': '/opt/amazon/bin:/usr/local/nvidia/bin:/usr/local/sbin:/usr/local/bin:/usr/sbin:/usr/bin:/sbin:/bin:/opt/amazon/bin:/opt/amazon/bin', 'PROTOCOL_BUFFERS_PYTHON_IMPLEMENTATION': 'cpp', 'ENVROOT': '/opt/amazon', 'SAGEMAKER_DATA_PATH': '/opt/ml', 'NVIDIA_DRIVER_CAPABILITIES': 'compute,utility', 'NVIDIA_REQUIRE_CUDA': 'cuda>=9.0', 'OMP_NUM_THREADS': '18', 'HOSTNAME': 'aws', 'AWS_CONTAINER_CREDENTIALS_RELATIVE_URI': '/v2/credentials/f486a8f5-37ad-4a18-8fd2-9d8dce5d85b9', 'DMLC_ROLE': 'worker', 'PWD': '/', 'DMLC_NUM_SERVER': '1'}\u001b[0m\n",
      "\u001b[32m[07/12/2018 18:00:48 INFO 140212887562048] Using default worker.\u001b[0m\n",
      "\u001b[32m[07/12/2018 18:00:48 INFO 140212887562048] Loaded iterator creator application/x-recordio-protobuf for content type ('application/x-recordio-protobuf', '1.0')\u001b[0m\n",
      "\u001b[32m[07/12/2018 18:00:48 INFO 140212887562048] Create Store: dist_async\u001b[0m\n",
      "\u001b[31m[07/12/2018 18:00:49 INFO 139957363558208] nvidia-smi took: 0.0252199172974 secs to identify 0 gpus\u001b[0m\n",
      "\u001b[31m[07/12/2018 18:00:49 INFO 139957363558208] Number of GPUs being used: 0\u001b[0m\n",
      "\u001b[31m[07/12/2018 18:00:49 INFO 139957363558208] Setting up with params: {u'k': u'10', u'_tuning_objective_metric': u'', u'_num_gpus': u'auto', u'local_lloyd_num_trials': u'auto', u'_log_level': u'info', u'_kvstore': u'auto', u'local_lloyd_init_method': u'kmeans++', u'force_dense': u'True', u'epochs': u'1', u'init_method': u'random', u'feature_dim': u'784', u'local_lloyd_tol': u'0.0001', u'local_lloyd_max_iter': u'300', u'_disable_wait_to_read': u'false', u'extra_center_factor': u'auto', u'eval_metrics': u'[\"msd\"]', u'_num_kv_servers': u'1', u'mini_batch_size': u'5000', u'half_life_time_size': u'0', u'_num_slices': u'1'}\u001b[0m\n",
      "\u001b[31m/opt/amazon/lib/python2.7/site-packages/ai_algorithms_sdk/config/config_helper.py:172: DeprecationWarning: deprecated\n",
      "  warnings.warn(\"deprecated\", DeprecationWarning)\u001b[0m\n",
      "\u001b[31m/opt/amazon/lib/python2.7/site-packages/ai_algorithms_sdk/config/config_helper.py:122: DeprecationWarning: deprecated\n",
      "  warnings.warn(\"deprecated\", DeprecationWarning)\u001b[0m\n",
      "\u001b[31m[07/12/2018 18:00:49 INFO 139957363558208] Number of GPUs being used: 0\u001b[0m\n",
      "\u001b[31m[07/12/2018 18:00:49 INFO 139957363558208] number of center slices 1\u001b[0m\n",
      "\u001b[31m#metrics {\"Metrics\": {\"Max Batches Seen Between Resets\": {\"count\": 1, \"max\": 1, \"sum\": 1.0, \"min\": 1}, \"Number of Batches Since Last Reset\": {\"count\": 1, \"max\": 1, \"sum\": 1.0, \"min\": 1}, \"Number of Records Since Last Reset\": {\"count\": 1, \"max\": 5000, \"sum\": 5000.0, \"min\": 5000}, \"Total Batches Seen\": {\"count\": 1, \"max\": 1, \"sum\": 1.0, \"min\": 1}, \"Total Records Seen\": {\"count\": 1, \"max\": 5000, \"sum\": 5000.0, \"min\": 5000}, \"Max Records Seen Between Resets\": {\"count\": 1, \"max\": 5000, \"sum\": 5000.0, \"min\": 5000}, \"Reset Count\": {\"count\": 1, \"max\": 0, \"sum\": 0.0, \"min\": 0}}, \"EndTime\": 1531418449.480332, \"Dimensions\": {\"Host\": \"algo-1\", \"Meta\": \"init_train_data_iter\", \"Operation\": \"training\", \"Algorithm\": \"AWS/KMeansWebscale\"}, \"StartTime\": 1531418449.480303}\n",
      "\u001b[0m\n",
      "\u001b[31m[07/12/2018 18:00:49 INFO 139957363558208] processed a total of 25000 examples\u001b[0m\n",
      "\u001b[31m[07/12/2018 18:00:49 INFO 139957363558208] #progress_metric: host=algo-1, completed 100 % of epochs\u001b[0m\n",
      "\u001b[31m#metrics {\"Metrics\": {\"Max Batches Seen Between Resets\": {\"count\": 1, \"max\": 5, \"sum\": 5.0, \"min\": 5}, \"Number of Batches Since Last Reset\": {\"count\": 1, \"max\": 5, \"sum\": 5.0, \"min\": 5}, \"Number of Records Since Last Reset\": {\"count\": 1, \"max\": 25000, \"sum\": 25000.0, \"min\": 25000}, \"Total Batches Seen\": {\"count\": 1, \"max\": 6, \"sum\": 6.0, \"min\": 6}, \"Total Records Seen\": {\"count\": 1, \"max\": 30000, \"sum\": 30000.0, \"min\": 30000}, \"Max Records Seen Between Resets\": {\"count\": 1, \"max\": 25000, \"sum\": 25000.0, \"min\": 25000}, \"Reset Count\": {\"count\": 1, \"max\": 1, \"sum\": 1.0, \"min\": 1}}, \"EndTime\": 1531418449.811117, \"Dimensions\": {\"Host\": \"algo-1\", \"Meta\": \"training_data_iter\", \"Operation\": \"training\", \"Algorithm\": \"AWS/KMeansWebscale\", \"epoch\": 0}, \"StartTime\": 1531418449.48053}\n",
      "\u001b[0m\n",
      "\u001b[31m[07/12/2018 18:00:49 INFO 139957363558208] #throughput_metric: host=algo-1, train throughput=75570.2673271 records/second\u001b[0m\n",
      "\u001b[31m[07/12/2018 18:00:49 INFO 139957363558208] shrinking 100 centers into 10\u001b[0m\n",
      "\u001b[31m[07/12/2018 18:00:49 INFO 139957363558208] local kmeans attempt #0. Current mean square distance 10.765092\u001b[0m\n",
      "\u001b[32m[07/12/2018 18:00:49 INFO 140212887562048] nvidia-smi took: 0.0252020359039 secs to identify 0 gpus\u001b[0m\n",
      "\u001b[32m[07/12/2018 18:00:49 INFO 140212887562048] Number of GPUs being used: 0\u001b[0m\n",
      "\u001b[32m[07/12/2018 18:00:49 INFO 140212887562048] Setting up with params: {u'k': u'10', u'_tuning_objective_metric': u'', u'_num_gpus': u'auto', u'local_lloyd_num_trials': u'auto', u'_log_level': u'info', u'_kvstore': u'auto', u'local_lloyd_init_method': u'kmeans++', u'force_dense': u'True', u'epochs': u'1', u'init_method': u'random', u'feature_dim': u'784', u'local_lloyd_tol': u'0.0001', u'local_lloyd_max_iter': u'300', u'_disable_wait_to_read': u'false', u'extra_center_factor': u'auto', u'eval_metrics': u'[\"msd\"]', u'_num_kv_servers': u'1', u'mini_batch_size': u'5000', u'half_life_time_size': u'0', u'_num_slices': u'1'}\u001b[0m\n",
      "\u001b[32m/opt/amazon/lib/python2.7/site-packages/ai_algorithms_sdk/config/config_helper.py:172: DeprecationWarning: deprecated\n",
      "  warnings.warn(\"deprecated\", DeprecationWarning)\u001b[0m\n",
      "\u001b[32m/opt/amazon/lib/python2.7/site-packages/ai_algorithms_sdk/config/config_helper.py:122: DeprecationWarning: deprecated\n",
      "  warnings.warn(\"deprecated\", DeprecationWarning)\u001b[0m\n",
      "\u001b[32m[07/12/2018 18:00:49 INFO 140212887562048] Number of GPUs being used: 0\u001b[0m\n",
      "\u001b[32m[07/12/2018 18:00:49 INFO 140212887562048] number of center slices 1\u001b[0m\n",
      "\u001b[32m#metrics {\"Metrics\": {\"Max Batches Seen Between Resets\": {\"count\": 1, \"max\": 1, \"sum\": 1.0, \"min\": 1}, \"Number of Batches Since Last Reset\": {\"count\": 1, \"max\": 1, \"sum\": 1.0, \"min\": 1}, \"Number of Records Since Last Reset\": {\"count\": 1, \"max\": 5000, \"sum\": 5000.0, \"min\": 5000}, \"Total Batches Seen\": {\"count\": 1, \"max\": 1, \"sum\": 1.0, \"min\": 1}, \"Total Records Seen\": {\"count\": 1, \"max\": 5000, \"sum\": 5000.0, \"min\": 5000}, \"Max Records Seen Between Resets\": {\"count\": 1, \"max\": 5000, \"sum\": 5000.0, \"min\": 5000}, \"Reset Count\": {\"count\": 1, \"max\": 0, \"sum\": 0.0, \"min\": 0}}, \"EndTime\": 1531418449.486625, \"Dimensions\": {\"Host\": \"algo-2\", \"Meta\": \"init_train_data_iter\", \"Operation\": \"training\", \"Algorithm\": \"AWS/KMeansWebscale\"}, \"StartTime\": 1531418449.486597}\n",
      "\u001b[0m\n",
      "\u001b[32m[07/12/2018 18:00:49 INFO 140212887562048] processed a total of 25000 examples\u001b[0m\n",
      "\u001b[32m[07/12/2018 18:00:49 INFO 140212887562048] #progress_metric: host=algo-2, completed 100 % of epochs\u001b[0m\n",
      "\u001b[32m#metrics {\"Metrics\": {\"Max Batches Seen Between Resets\": {\"count\": 1, \"max\": 5, \"sum\": 5.0, \"min\": 5}, \"Number of Batches Since Last Reset\": {\"count\": 1, \"max\": 5, \"sum\": 5.0, \"min\": 5}, \"Number of Records Since Last Reset\": {\"count\": 1, \"max\": 25000, \"sum\": 25000.0, \"min\": 25000}, \"Total Batches Seen\": {\"count\": 1, \"max\": 6, \"sum\": 6.0, \"min\": 6}, \"Total Records Seen\": {\"count\": 1, \"max\": 30000, \"sum\": 30000.0, \"min\": 30000}, \"Max Records Seen Between Resets\": {\"count\": 1, \"max\": 25000, \"sum\": 25000.0, \"min\": 25000}, \"Reset Count\": {\"count\": 1, \"max\": 1, \"sum\": 1.0, \"min\": 1}}, \"EndTime\": 1531418449.800055, \"Dimensions\": {\"Host\": \"algo-2\", \"Meta\": \"training_data_iter\", \"Operation\": \"training\", \"Algorithm\": \"AWS/KMeansWebscale\", \"epoch\": 0}, \"StartTime\": 1531418449.486806}\n",
      "\u001b[0m\n",
      "\u001b[32m[07/12/2018 18:00:49 INFO 140212887562048] #throughput_metric: host=algo-2, train throughput=79779.418478 records/second\u001b[0m\n",
      "\u001b[32m[07/12/2018 18:00:49 INFO 140212887562048] shrinking 100 centers into 10\u001b[0m\n",
      "\u001b[32m[07/12/2018 18:00:49 INFO 140212887562048] local kmeans attempt #0. Current mean square distance 10.547642\u001b[0m\n",
      "\u001b[32m[07/12/2018 18:00:49 INFO 140212887562048] local kmeans attempt #1. Current mean square distance 11.256694\u001b[0m\n",
      "\u001b[32m[07/12/2018 18:00:49 INFO 140212887562048] local kmeans attempt #2. Current mean square distance 10.662367\u001b[0m\n",
      "\u001b[32m[07/12/2018 18:00:49 INFO 140212887562048] local kmeans attempt #3. Current mean square distance 10.537213\u001b[0m\n",
      "\u001b[32m[07/12/2018 18:00:49 INFO 140212887562048] local kmeans attempt #4. Current mean square distance 10.831999\u001b[0m\n",
      "\u001b[32m[07/12/2018 18:00:50 INFO 140212887562048] local kmeans attempt #5. Current mean square distance 11.155949\u001b[0m\n",
      "\u001b[32m[07/12/2018 18:00:50 INFO 140212887562048] local kmeans attempt #6. Current mean square distance 10.591574\u001b[0m\n",
      "\u001b[32m[07/12/2018 18:00:50 INFO 140212887562048] local kmeans attempt #7. Current mean square distance 10.716564\u001b[0m\n",
      "\u001b[32m[07/12/2018 18:00:50 INFO 140212887562048] local kmeans attempt #8. Current mean square distance 11.063474\u001b[0m\n",
      "\u001b[32m[07/12/2018 18:00:50 INFO 140212887562048] local kmeans attempt #9. Current mean square distance 10.633087\u001b[0m\n",
      "\u001b[32m[07/12/2018 18:00:50 INFO 140212887562048] finished shrinking process. Mean Square Distance = 11\u001b[0m\n",
      "\u001b[32m[07/12/2018 18:00:50 INFO 140212887562048] #quality_metric: host=algo-2, train msd <loss>=10.5372133255\u001b[0m\n",
      "\u001b[32m[07/12/2018 18:00:50 INFO 140212887562048] batch data loading with context took: 58.5564%, (0.183286 secs)\u001b[0m\n",
      "\u001b[32m[07/12/2018 18:00:50 INFO 140212887562048] compute all data-center distances: point norm took: 11.2154%, (0.035105 secs)\u001b[0m\n",
      "\u001b[32m[07/12/2018 18:00:50 INFO 140212887562048] predict compute msd took: 8.8937%, (0.027838 secs)\u001b[0m\n",
      "\u001b[32m[07/12/2018 18:00:50 INFO 140212887562048] compute all data-center distances: inner product took: 8.7997%, (0.027544 secs)\u001b[0m\n",
      "\u001b[32m[07/12/2018 18:00:50 INFO 140212887562048] gradient: cluster center took: 4.4166%, (0.013824 secs)\u001b[0m\n",
      "\u001b[32m[07/12/2018 18:00:50 INFO 140212887562048] collect from kv store took: 4.1717%, (0.013058 secs)\u001b[0m\n",
      "\u001b[32m[07/12/2018 18:00:50 INFO 140212887562048] gradient: cluster size  took: 1.0546%, (0.003301 secs)\u001b[0m\n",
      "\u001b[32m[07/12/2018 18:00:50 INFO 140212887562048] gradient: one_hot took: 0.9980%, (0.003124 secs)\u001b[0m\n",
      "\u001b[32m[07/12/2018 18:00:50 INFO 140212887562048] splitting centers key-value pair took: 0.9748%, (0.003051 secs)\u001b[0m\n",
      "\u001b[32m[07/12/2018 18:00:50 INFO 140212887562048] update state and report convergance took: 0.4283%, (0.001341 secs)\u001b[0m\n",
      "\u001b[32m[07/12/2018 18:00:50 INFO 140212887562048] compute all data-center distances: center norm took: 0.3991%, (0.001249 secs)\u001b[0m\n",
      "\u001b[32m[07/12/2018 18:00:50 INFO 140212887562048] update set-up time took: 0.0546%, (0.000171 secs)\u001b[0m\n",
      "\u001b[32m[07/12/2018 18:00:50 INFO 140212887562048] predict minus dist took: 0.0372%, (0.000116 secs)\u001b[0m\n",
      "\u001b[32m[07/12/2018 18:00:50 INFO 140212887562048] TOTAL took: 0.313007593155\u001b[0m\n",
      "\u001b[32m[07/12/2018 18:00:50 INFO 140212887562048] Number of GPUs being used: 0\u001b[0m\n",
      "\u001b[32m[07/12/2018 18:00:50 INFO 140212887562048] No model is serialized on a non-master node\u001b[0m\n",
      "\u001b[32m#metrics {\"Metrics\": {\"finalize.time\": {\"count\": 1, \"max\": 303.07483673095703, \"sum\": 303.07483673095703, \"min\": 303.07483673095703}, \"initialize.time\": {\"count\": 1, \"max\": 21.931886672973633, \"sum\": 21.931886672973633, \"min\": 21.931886672973633}, \"model.serialize.time\": {\"count\": 1, \"max\": 0.07700920104980469, \"sum\": 0.07700920104980469, \"min\": 0.07700920104980469}, \"update.time\": {\"count\": 1, \"max\": 313.0519390106201, \"sum\": 313.0519390106201, \"min\": 313.0519390106201}, \"epochs\": {\"count\": 1, \"max\": 1, \"sum\": 1.0, \"min\": 1}, \"state.serialize.time\": {\"count\": 1, \"max\": 0.4811286926269531, \"sum\": 0.4811286926269531, \"min\": 0.4811286926269531}, \"_shrink.time\": {\"count\": 1, \"max\": 299.9098300933838, \"sum\": 299.9098300933838, \"min\": 299.9098300933838}}, \"EndTime\": 1531418450.12176, \"Dimensions\": {\"Host\": \"algo-2\", \"Operation\": \"training\", \"Algorithm\": \"AWS/KMeansWebscale\"}, \"StartTime\": 1531418449.423671}\n",
      "\u001b[0m\n",
      "\u001b[32m[07/12/2018 18:00:50 INFO 140212887562048] Test data is not provided.\u001b[0m\n",
      "\u001b[32m#metrics {\"Metrics\": {\"totaltime\": {\"count\": 1, \"max\": 1739.5050525665283, \"sum\": 1739.5050525665283, \"min\": 1739.5050525665283}, \"setuptime\": {\"count\": 1, \"max\": 13.230085372924805, \"sum\": 13.230085372924805, \"min\": 13.230085372924805}}, \"EndTime\": 1531418450.124973, \"Dimensions\": {\"Host\": \"algo-2\", \"Operation\": \"training\", \"Algorithm\": \"AWS/KMeansWebscale\"}, \"StartTime\": 1531418450.121868}\n",
      "\u001b[0m\n",
      "\u001b[31m[07/12/2018 18:00:49 INFO 139957363558208] local kmeans attempt #1. Current mean square distance 11.041970\u001b[0m\n",
      "\u001b[31m[07/12/2018 18:00:49 INFO 139957363558208] local kmeans attempt #2. Current mean square distance 10.555385\u001b[0m\n",
      "\u001b[31m[07/12/2018 18:00:49 INFO 139957363558208] local kmeans attempt #3. Current mean square distance 10.691526\u001b[0m\n",
      "\u001b[31m[07/12/2018 18:00:50 INFO 139957363558208] local kmeans attempt #4. Current mean square distance 10.711735\u001b[0m\n",
      "\u001b[31m[07/12/2018 18:00:50 INFO 139957363558208] local kmeans attempt #5. Current mean square distance 10.671246\u001b[0m\n",
      "\u001b[31m[07/12/2018 18:00:50 INFO 139957363558208] local kmeans attempt #6. Current mean square distance 10.459644\u001b[0m\n",
      "\u001b[31m[07/12/2018 18:00:50 INFO 139957363558208] local kmeans attempt #7. Current mean square distance 10.894260\u001b[0m\n",
      "\u001b[31m[07/12/2018 18:00:50 INFO 139957363558208] local kmeans attempt #8. Current mean square distance 11.249013\u001b[0m\n",
      "\u001b[31m[07/12/2018 18:00:50 INFO 139957363558208] local kmeans attempt #9. Current mean square distance 10.830762\u001b[0m\n",
      "\u001b[31m[07/12/2018 18:00:50 INFO 139957363558208] finished shrinking process. Mean Square Distance = 10\u001b[0m\n",
      "\u001b[31m[07/12/2018 18:00:50 INFO 139957363558208] #quality_metric: host=algo-1, train msd <loss>=10.4596443176\u001b[0m\n",
      "\u001b[31m[07/12/2018 18:00:50 INFO 139957363558208] batch data loading with context took: 59.9505%, (0.197615 secs)\u001b[0m\n",
      "\u001b[31m[07/12/2018 18:00:50 INFO 139957363558208] compute all data-center distances: point norm took: 11.7014%, (0.038571 secs)\u001b[0m\n",
      "\u001b[31m[07/12/2018 18:00:50 INFO 139957363558208] predict compute msd took: 8.9161%, (0.029390 secs)\u001b[0m\n",
      "\u001b[31m[07/12/2018 18:00:50 INFO 139957363558208] compute all data-center distances: inner product took: 7.4535%, (0.024569 secs)\u001b[0m\n",
      "\u001b[31m[07/12/2018 18:00:50 INFO 139957363558208] gradient: cluster center took: 5.4778%, (0.018057 secs)\u001b[0m\n",
      "\u001b[31m[07/12/2018 18:00:50 INFO 139957363558208] collect from kv store took: 2.2124%, (0.007293 secs)\u001b[0m\n",
      "\u001b[31m[07/12/2018 18:00:50 INFO 139957363558208] gradient: cluster size  took: 1.1826%, (0.003898 secs)\u001b[0m\n",
      "\u001b[31m[07/12/2018 18:00:50 INFO 139957363558208] gradient: one_hot took: 1.0870%, (0.003583 secs)\u001b[0m\n",
      "\u001b[31m[07/12/2018 18:00:50 INFO 139957363558208] splitting centers key-value pair took: 0.9702%, (0.003198 secs)\u001b[0m\n",
      "\u001b[31m[07/12/2018 18:00:50 INFO 139957363558208] compute all data-center distances: center norm took: 0.4964%, (0.001636 secs)\u001b[0m\n",
      "\u001b[31m[07/12/2018 18:00:50 INFO 139957363558208] update state and report convergance took: 0.4484%, (0.001478 secs)\u001b[0m\n",
      "\u001b[31m[07/12/2018 18:00:50 INFO 139957363558208] update set-up time took: 0.0673%, (0.000222 secs)\u001b[0m\n",
      "\u001b[31m[07/12/2018 18:00:50 INFO 139957363558208] predict minus dist took: 0.0364%, (0.000120 secs)\u001b[0m\n",
      "\u001b[31m[07/12/2018 18:00:50 INFO 139957363558208] TOTAL took: 0.329630613327\u001b[0m\n",
      "\u001b[31m[07/12/2018 18:00:50 INFO 139957363558208] Number of GPUs being used: 0\u001b[0m\n",
      "\u001b[31m#metrics {\"Metrics\": {\"finalize.time\": {\"count\": 1, \"max\": 319.551944732666, \"sum\": 319.551944732666, \"min\": 319.551944732666}, \"initialize.time\": {\"count\": 1, \"max\": 18.192052841186523, \"sum\": 18.192052841186523, \"min\": 18.192052841186523}, \"model.serialize.time\": {\"count\": 1, \"max\": 0.19097328186035156, \"sum\": 0.19097328186035156, \"min\": 0.19097328186035156}, \"update.time\": {\"count\": 1, \"max\": 330.34586906433105, \"sum\": 330.34586906433105, \"min\": 330.34586906433105}, \"epochs\": {\"count\": 1, \"max\": 1, \"sum\": 1.0, \"min\": 1}, \"state.serialize.time\": {\"count\": 1, \"max\": 0.5128383636474609, \"sum\": 0.5128383636474609, \"min\": 0.5128383636474609}, \"_shrink.time\": {\"count\": 1, \"max\": 316.82395935058594, \"sum\": 316.82395935058594, \"min\": 316.82395935058594}}, \"EndTime\": 1531418450.132169, \"Dimensions\": {\"Host\": \"algo-1\", \"Operation\": \"training\", \"Algorithm\": \"AWS/KMeansWebscale\"}, \"StartTime\": 1531418449.41784}\n",
      "\u001b[0m\n",
      "\u001b[31m[07/12/2018 18:00:50 INFO 139957363558208] Test data is not provided.\u001b[0m\n",
      "\u001b[31m#metrics {\"Metrics\": {\"totaltime\": {\"count\": 1, \"max\": 1866.204023361206, \"sum\": 1866.204023361206, \"min\": 1866.204023361206}, \"setuptime\": {\"count\": 1, \"max\": 22.1860408782959, \"sum\": 22.1860408782959, \"min\": 22.1860408782959}}, \"EndTime\": 1531418450.134612, \"Dimensions\": {\"Host\": \"algo-1\", \"Operation\": \"training\", \"Algorithm\": \"AWS/KMeansWebscale\"}, \"StartTime\": 1531418450.132252}\n",
      "\u001b[0m\n"
     ]
    },
    {
     "name": "stdout",
     "output_type": "stream",
     "text": [
      "===== Job Complete =====\n",
      "Billable seconds: 198\n",
      "CPU times: user 7.34 s, sys: 464 ms, total: 7.8 s\n",
      "Wall time: 4min 53s\n"
     ]
    }
   ],
   "source": [
    "%%time\n",
    "\n",
    "kmeans.fit(kmeans.record_set(train_set[0]))"
   ]
  },
  {
   "cell_type": "code",
   "execution_count": 18,
   "metadata": {},
   "outputs": [
    {
     "name": "stderr",
     "output_type": "stream",
     "text": [
      "INFO:sagemaker:Creating model with name: kmeans-2018-07-12-18-10-47-767\n",
      "INFO:sagemaker:Creating endpoint with name kmeans-2018-07-12-17-56-34-937\n"
     ]
    },
    {
     "name": "stdout",
     "output_type": "stream",
     "text": [
      "----------------------------------------------------------------!CPU times: user 284 ms, sys: 12 ms, total: 296 ms\n",
      "Wall time: 5min 24s\n"
     ]
    }
   ],
   "source": [
    "%%time\n",
    "\n",
    "kmeans_predictor = kmeans.deploy(initial_instance_count=1,\n",
    "                                 instance_type='ml.m4.xlarge')"
   ]
  },
  {
   "cell_type": "code",
   "execution_count": 19,
   "metadata": {},
   "outputs": [
    {
     "name": "stdout",
     "output_type": "stream",
     "text": [
      "[label {\n",
      "  key: \"closest_cluster\"\n",
      "  value {\n",
      "    float32_tensor {\n",
      "      values: 9.0\n",
      "    }\n",
      "  }\n",
      "}\n",
      "label {\n",
      "  key: \"distance_to_cluster\"\n",
      "  value {\n",
      "    float32_tensor {\n",
      "      values: 5.525047779083252\n",
      "    }\n",
      "  }\n",
      "}\n",
      "]\n"
     ]
    }
   ],
   "source": [
    "result = kmeans_predictor.predict(valid_set[0][30:31])\n",
    "print(result)"
   ]
  },
  {
   "cell_type": "code",
   "execution_count": 20,
   "metadata": {},
   "outputs": [
    {
     "name": "stdout",
     "output_type": "stream",
     "text": [
      "CPU times: user 20 ms, sys: 0 ns, total: 20 ms\n",
      "Wall time: 107 ms\n"
     ]
    }
   ],
   "source": [
    "%%time \n",
    "\n",
    "result = kmeans_predictor.predict(valid_set[0][0:100])\n",
    "clusters = [r.label['closest_cluster'].float32_tensor.values[0] for r in result]"
   ]
  },
  {
   "cell_type": "code",
   "execution_count": 21,
   "metadata": {},
   "outputs": [
    {
     "name": "stdout",
     "output_type": "stream",
     "text": [
      "\n",
      "\n",
      "\n",
      "Cluster 0:\n"
     ]
    },
    {
     "data": {
      "image/png": "[encoded data removed]",
      "text/plain": [
       "<Figure size 360x216 with 15 Axes>"
      ]
     },
     "metadata": {},
     "output_type": "display_data"
    },
    {
     "name": "stdout",
     "output_type": "stream",
     "text": [
      "\n",
      "\n",
      "\n",
      "Cluster 1:\n"
     ]
    },
    {
     "data": {
      "image/png": "[encoded data removed]",
      "text/plain": [
       "<Figure size 360x216 with 15 Axes>"
      ]
     },
     "metadata": {},
     "output_type": "display_data"
    },
    {
     "name": "stdout",
     "output_type": "stream",
     "text": [
      "\n",
      "\n",
      "\n",
      "Cluster 2:\n"
     ]
    },
    {
     "data": {
      "image/png": "[encoded data removed]",
      "text/plain": [
       "<Figure size 360x144 with 10 Axes>"
      ]
     },
     "metadata": {},
     "output_type": "display_data"
    },
    {
     "name": "stdout",
     "output_type": "stream",
     "text": [
      "\n",
      "\n",
      "\n",
      "Cluster 3:\n"
     ]
    },
    {
     "data": {
      "image/png": "[encoded data removed]",
      "text/plain": [
       "<Figure size 360x144 with 10 Axes>"
      ]
     },
     "metadata": {},
     "output_type": "display_data"
    },
    {
     "name": "stdout",
     "output_type": "stream",
     "text": [
      "\n",
      "\n",
      "\n",
      "Cluster 4:\n"
     ]
    },
    {
     "data": {
      "image/png": "[encoded data removed]",
      "text/plain": [
       "<Figure size 360x216 with 15 Axes>"
      ]
     },
     "metadata": {},
     "output_type": "display_data"
    },
    {
     "name": "stdout",
     "output_type": "stream",
     "text": [
      "\n",
      "\n",
      "\n",
      "Cluster 5:\n"
     ]
    },
    {
     "data": {
      "image/png": "[encoded data removed]",
      "text/plain": [
       "<Figure size 360x144 with 10 Axes>"
      ]
     },
     "metadata": {},
     "output_type": "display_data"
    },
    {
     "name": "stdout",
     "output_type": "stream",
     "text": [
      "\n",
      "\n",
      "\n",
      "Cluster 6:\n"
     ]
    },
    {
     "data": {
      "image/png": "[encoded data removed]",
      "text/plain": [
       "<Figure size 360x216 with 15 Axes>"
      ]
     },
     "metadata": {},
     "output_type": "display_data"
    },
    {
     "name": "stdout",
     "output_type": "stream",
     "text": [
      "\n",
      "\n",
      "\n",
      "Cluster 7:\n"
     ]
    },
    {
     "data": {
      "image/png": "[encoded data removed]",
      "text/plain": [
       "<Figure size 360x72 with 5 Axes>"
      ]
     },
     "metadata": {},
     "output_type": "display_data"
    },
    {
     "name": "stdout",
     "output_type": "stream",
     "text": [
      "\n",
      "\n",
      "\n",
      "Cluster 8:\n"
     ]
    },
    {
     "data": {
      "image/png": "[encoded data removed]",
      "text/plain": [
       "<Figure size 360x216 with 15 Axes>"
      ]
     },
     "metadata": {},
     "output_type": "display_data"
    },
    {
     "name": "stdout",
     "output_type": "stream",
     "text": [
      "\n",
      "\n",
      "\n",
      "Cluster 9:\n"
     ]
    },
    {
     "data": {
      "image/png": "[encoded data removed]",
      "text/plain": [
       "<Figure size 360x216 with 15 Axes>"
      ]
     },
     "metadata": {},
     "output_type": "display_data"
    }
   ],
   "source": [
    "for cluster in range(10):\n",
    "    print('\\n\\n\\nCluster {}:'.format(int(cluster)))\n",
    "    digits = [ img for l, img in zip(clusters, valid_set[0]) if int(l) == cluster ]\n",
    "    height=((len(digits)-1)//5)+1\n",
    "    width=5\n",
    "    plt.rcParams[\"figure.figsize\"] = (width,height)\n",
    "    _, subplots = plt.subplots(height, width)\n",
    "    subplots=numpy.ndarray.flatten(subplots)\n",
    "    for subplot, image in zip(subplots, digits):\n",
    "        show_digit(image, subplot=subplot)\n",
    "    for subplot in subplots[len(digits):]:\n",
    "        subplot.axis('off')\n",
    "\n",
    "    plt.show()"
   ]
  },
  {
   "cell_type": "code",
   "execution_count": 1,
   "metadata": {
    "scrolled": true
   },
   "outputs": [],
   "source": [
    "from sagemaker import get_execution_role\n",
    "\n",
    "role = get_execution_role()\n",
    "bucket='sage-maker-bucket-pmc'"
   ]
  },
  {
   "cell_type": "code",
   "execution_count": 2,
   "metadata": {},
   "outputs": [],
   "source": [
    "import pandas as pd\n",
    "import urllib.request\n",
    "\n",
    "data_filename = 'SM+Pmc.csv'\n",
    "data_source = 'https://s3.amazonaws.com/sage-maker-bucket-pmc/SM+Pmc.csv'\n",
    "\n",
    "urllib.request.urlretrieve(data_source, data_filename)\n",
    "train_set= pd.read_csv(data_filename, delimiter=',')"
   ]
  },
  {
   "cell_type": "code",
   "execution_count": 3,
   "metadata": {},
   "outputs": [
    {
     "name": "stdout",
     "output_type": "stream",
     "text": [
      "          pctype                                           sentence\n",
      "0        rebelle                                                :-)\n",
      "1    perseverant  À mon avis, il faudra surveiller comment il év...\n",
      "2        rebelle                        À mort le projet annuel !!!\n",
      "3  travaillomane  À partir de empathie9travaillomane9, il étudie...\n",
      "4  travaillomane  A quelle date avez vous transmis les élément ?...\n",
      "5    perseverant             À votre avis que devrions-nous faire ?\n"
     ]
    }
   ],
   "source": [
    "train_set.head()\n",
    "print(train_set.loc[0:5,:])"
   ]
  },
  {
   "cell_type": "code",
   "execution_count": 7,
   "metadata": {},
   "outputs": [
    {
     "ename": "AttributeError",
     "evalue": "'numpy.ndarray' object has no attribute 'loc'",
     "output_type": "error",
     "traceback": [
      "\u001b[0;31m---------------------------------------------------------------------------\u001b[0m",
      "\u001b[0;31mAttributeError\u001b[0m                            Traceback (most recent call last)",
      "\u001b[0;32m<ipython-input-7-21e87293dde5>\u001b[0m in \u001b[0;36m<module>\u001b[0;34m()\u001b[0m\n\u001b[0;32m----> 1\u001b[0;31m \u001b[0mtrain_set\u001b[0m\u001b[0;34m.\u001b[0m\u001b[0mloc\u001b[0m\u001b[0;34m[\u001b[0m\u001b[0;36m0\u001b[0m\u001b[0;34m:\u001b[0m\u001b[0;36m5\u001b[0m\u001b[0;34m,\u001b[0m\u001b[0;34m\"sentence\"\u001b[0m\u001b[0;34m]\u001b[0m\u001b[0;34m\u001b[0m\u001b[0m\n\u001b[0m\u001b[1;32m      2\u001b[0m \u001b[0mtrain_set_sentence\u001b[0m\u001b[0;34m=\u001b[0m\u001b[0mtrain_set\u001b[0m\u001b[0;34m.\u001b[0m\u001b[0mloc\u001b[0m\u001b[0;34m[\u001b[0m\u001b[0;36m0\u001b[0m\u001b[0;34m:\u001b[0m\u001b[0;34m,\u001b[0m\u001b[0;34m\"sentence\"\u001b[0m\u001b[0;34m]\u001b[0m\u001b[0;34m.\u001b[0m\u001b[0mas_matrix\u001b[0m\u001b[0;34m(\u001b[0m\u001b[0;34m)\u001b[0m\u001b[0;34m\u001b[0m\u001b[0m\n\u001b[1;32m      3\u001b[0m \u001b[0mtrain_set_pctype\u001b[0m \u001b[0;34m=\u001b[0m \u001b[0mtrain_set\u001b[0m\u001b[0;34m.\u001b[0m\u001b[0mloc\u001b[0m\u001b[0;34m[\u001b[0m\u001b[0;36m0\u001b[0m\u001b[0;34m:\u001b[0m\u001b[0;34m,\u001b[0m\u001b[0;34m\"pctype\"\u001b[0m\u001b[0;34m]\u001b[0m\u001b[0;34m.\u001b[0m\u001b[0mas_matrix\u001b[0m\u001b[0;34m(\u001b[0m\u001b[0;34m)\u001b[0m\u001b[0;34m\u001b[0m\u001b[0m\n",
      "\u001b[0;31mAttributeError\u001b[0m: 'numpy.ndarray' object has no attribute 'loc'"
     ]
    }
   ],
   "source": [
    "train_set.loc[0:5,\"sentence\"]\n",
    "train_set_sentence=train_set.loc[0:,\"sentence\"].as_matrix()\n",
    "train_set_pctype = train_set.loc[0:,\"pctype\"].as_matrix()"
   ]
  },
  {
   "cell_type": "code",
   "execution_count": 36,
   "metadata": {},
   "outputs": [
    {
     "name": "stdout",
     "output_type": "stream",
     "text": [
      "training data will be uploaded to: s3://sage-maker-bucket-pmc/kmeans_lowlevel_example/data\n"
     ]
    },
    {
     "ename": "ValueError",
     "evalue": "Labels must be a Vector",
     "output_type": "error",
     "traceback": [
      "\u001b[0;31m---------------------------------------------------------------------------\u001b[0m",
      "\u001b[0;31mValueError\u001b[0m                                Traceback (most recent call last)",
      "\u001b[0;32m<timed exec>\u001b[0m in \u001b[0;36m<module>\u001b[0;34m()\u001b[0m\n",
      "\u001b[0;32m~/anaconda3/envs/python3/lib/python3.6/site-packages/sagemaker/amazon/common.py\u001b[0m in \u001b[0;36mwrite_numpy_to_dense_tensor\u001b[0;34m(file, array, labels)\u001b[0m\n\u001b[1;32m     94\u001b[0m     \u001b[0;32mif\u001b[0m \u001b[0mlabels\u001b[0m \u001b[0;32mis\u001b[0m \u001b[0;32mnot\u001b[0m \u001b[0;32mNone\u001b[0m\u001b[0;34m:\u001b[0m\u001b[0;34m\u001b[0m\u001b[0m\n\u001b[1;32m     95\u001b[0m         \u001b[0;32mif\u001b[0m \u001b[0;32mnot\u001b[0m \u001b[0mlen\u001b[0m\u001b[0;34m(\u001b[0m\u001b[0mlabels\u001b[0m\u001b[0;34m.\u001b[0m\u001b[0mshape\u001b[0m\u001b[0;34m)\u001b[0m \u001b[0;34m==\u001b[0m \u001b[0;36m1\u001b[0m\u001b[0;34m:\u001b[0m\u001b[0;34m\u001b[0m\u001b[0m\n\u001b[0;32m---> 96\u001b[0;31m             \u001b[0;32mraise\u001b[0m \u001b[0mValueError\u001b[0m\u001b[0;34m(\u001b[0m\u001b[0;34m\"Labels must be a Vector\"\u001b[0m\u001b[0;34m)\u001b[0m\u001b[0;34m\u001b[0m\u001b[0m\n\u001b[0m\u001b[1;32m     97\u001b[0m         \u001b[0;32mif\u001b[0m \u001b[0mlabels\u001b[0m\u001b[0;34m.\u001b[0m\u001b[0mshape\u001b[0m\u001b[0;34m[\u001b[0m\u001b[0;36m0\u001b[0m\u001b[0;34m]\u001b[0m \u001b[0;32mnot\u001b[0m \u001b[0;32min\u001b[0m \u001b[0marray\u001b[0m\u001b[0;34m.\u001b[0m\u001b[0mshape\u001b[0m\u001b[0;34m:\u001b[0m\u001b[0;34m\u001b[0m\u001b[0m\n\u001b[1;32m     98\u001b[0m             raise ValueError(\"Label shape {} not compatible with array shape {}\".format(\n",
      "\u001b[0;31mValueError\u001b[0m: Labels must be a Vector"
     ]
    }
   ],
   "source": [
    "%%time\n",
    "from sagemaker.amazon.common import write_numpy_to_dense_tensor\n",
    "import io\n",
    "import boto3\n",
    "\n",
    "data_key = 'kmeans_lowlevel_example/data'\n",
    "data_location = 's3://{}/{}'.format(bucket, data_key)\n",
    "print('training data will be uploaded to: {}'.format(data_location))\n",
    "\n",
    "# Convert the training data into the format required by the SageMaker KMeans algorithm\n",
    "buf = io.BytesIO()\n",
    "write_numpy_to_dense_tensor(buf, train_set, train_set)\n",
    "buf.seek(0)\n",
    "\n",
    "boto3.resource('s3').Bucket(bucket).Object(data_key).upload_fileobj(buf)"
   ]
  },
  {
   "cell_type": "code",
   "execution_count": 48,
   "metadata": {},
   "outputs": [
    {
     "name": "stdout",
     "output_type": "stream",
     "text": [
      "[['rebelle' ':-)']\n",
      " ['perseverant' 'À mon avis, il faudra surveiller comment il évolue.']\n",
      " ['rebelle' 'À mort le projet annuel !!!']\n",
      " ...\n",
      " ['rebelle' 'Y a papa qui reppasse au boulot au final.']\n",
      " ['rebelle' \"Y'a aucun de ces sujets qui me branchent.\"]\n",
      " ['rebelle' 'Youpi !']]\n"
     ]
    }
   ],
   "source": [
    "print(train_set)"
   ]
  },
  {
   "cell_type": "code",
   "execution_count": null,
   "metadata": {},
   "outputs": [],
   "source": []
  }
 ],
 "metadata": {
  "kernelspec": {
   "display_name": "conda_python3",
   "language": "python",
   "name": "conda_python3"
  },
  "language_info": {
   "codemirror_mode": {
    "name": "ipython",
    "version": 3
   },
   "file_extension": ".py",
   "mimetype": "text/x-python",
   "name": "python",
   "nbconvert_exporter": "python",
   "pygments_lexer": "ipython3",
   "version": "3.6.4"
  }
 },
 "nbformat": 4,
 "nbformat_minor": 2
}
