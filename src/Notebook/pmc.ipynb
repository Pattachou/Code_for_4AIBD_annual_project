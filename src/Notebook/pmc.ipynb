{
 "cells": [
  {
   "cell_type": "code",
   "execution_count": 1,
   "metadata": {},
   "outputs": [],
   "source": [
    "from sagemaker import get_execution_role\n",
    "\n",
    "role = get_execution_role()\n",
    "bucket='sage-maker-bucket-pmc'"
   ]
  },
  {
   "cell_type": "code",
   "execution_count": 2,
   "metadata": {},
   "outputs": [],
   "source": [
    "import pandas as pd\n",
    "import urllib.request\n",
    "\n",
    "data_filename = 'SM+Pmc.csv'\n",
    "data_source = 'https://s3.amazonaws.com/sage-maker-bucket-pmc/SM+Pmc.csv'\n",
    "\n",
    "urllib.request.urlretrieve(data_source, data_filename)\n",
    "train_set= pd.read_csv(data_filename,delimiter=',')"
   ]
  },
  {
   "cell_type": "code",
   "execution_count": 3,
   "metadata": {},
   "outputs": [
    {
     "name": "stdout",
     "output_type": "stream",
     "text": [
      "          pctype                                           sentence\n",
      "0        rebelle                                                :-)\n",
      "1    perseverant  À mon avis, il faudra surveiller comment il év...\n",
      "2        rebelle                        À mort le projet annuel !!!\n",
      "3  travaillomane  À partir de empathie9travaillomane9, il étudie...\n",
      "4  travaillomane  A quelle date avez vous transmis les élément ?...\n",
      "5    perseverant             À votre avis que devrions-nous faire ?\n"
     ]
    }
   ],
   "source": [
    "train_set.head()\n",
    "print(train_set.loc[0:5,:])\n",
    "#print(np.array(train_set))\n",
    "#print(train_set.values)"
   ]
  },
  {
   "cell_type": "code",
   "execution_count": 4,
   "metadata": {},
   "outputs": [],
   "source": [
    "import numpy as np\n",
    "\n",
    "#train_set.loc[0:1,\"sentence\"]\n",
    "train_set = np.asmatrix(train_set)\n",
    "#train_set_pctype = np.asmatrix(train_set_pctype)\n",
    "#train_set_sentence=train_set.loc[0:,\"sentence\"].as_matrix()\n"
   ]
  },
  {
   "cell_type": "code",
   "execution_count": 11,
   "metadata": {},
   "outputs": [
    {
     "name": "stdout",
     "output_type": "stream",
     "text": [
      "training data will be uploaded to: s3://sage-maker-bucket-pmc/kmeans_lowlevel_example/data\n"
     ]
    },
    {
     "ename": "ValueError",
     "evalue": "Labels must be a Vector",
     "output_type": "error",
     "traceback": [
      "\u001b[0;31m---------------------------------------------------------------------------\u001b[0m",
      "\u001b[0;31mValueError\u001b[0m                                Traceback (most recent call last)",
      "\u001b[0;32m<timed exec>\u001b[0m in \u001b[0;36m<module>\u001b[0;34m()\u001b[0m\n",
      "\u001b[0;32m~/anaconda3/envs/tensorflow_p36/lib/python3.6/site-packages/sagemaker/amazon/common.py\u001b[0m in \u001b[0;36mwrite_numpy_to_dense_tensor\u001b[0;34m(file, array, labels)\u001b[0m\n\u001b[1;32m     94\u001b[0m     \u001b[0;32mif\u001b[0m \u001b[0mlabels\u001b[0m \u001b[0;32mis\u001b[0m \u001b[0;32mnot\u001b[0m \u001b[0;32mNone\u001b[0m\u001b[0;34m:\u001b[0m\u001b[0;34m\u001b[0m\u001b[0m\n\u001b[1;32m     95\u001b[0m         \u001b[0;32mif\u001b[0m \u001b[0;32mnot\u001b[0m \u001b[0mlen\u001b[0m\u001b[0;34m(\u001b[0m\u001b[0mlabels\u001b[0m\u001b[0;34m.\u001b[0m\u001b[0mshape\u001b[0m\u001b[0;34m)\u001b[0m \u001b[0;34m==\u001b[0m \u001b[0;36m1\u001b[0m\u001b[0;34m:\u001b[0m\u001b[0;34m\u001b[0m\u001b[0m\n\u001b[0;32m---> 96\u001b[0;31m             \u001b[0;32mraise\u001b[0m \u001b[0mValueError\u001b[0m\u001b[0;34m(\u001b[0m\u001b[0;34m\"Labels must be a Vector\"\u001b[0m\u001b[0;34m)\u001b[0m\u001b[0;34m\u001b[0m\u001b[0m\n\u001b[0m\u001b[1;32m     97\u001b[0m         \u001b[0;32mif\u001b[0m \u001b[0mlabels\u001b[0m\u001b[0;34m.\u001b[0m\u001b[0mshape\u001b[0m\u001b[0;34m[\u001b[0m\u001b[0;36m0\u001b[0m\u001b[0;34m]\u001b[0m \u001b[0;32mnot\u001b[0m \u001b[0;32min\u001b[0m \u001b[0marray\u001b[0m\u001b[0;34m.\u001b[0m\u001b[0mshape\u001b[0m\u001b[0;34m:\u001b[0m\u001b[0;34m\u001b[0m\u001b[0m\n\u001b[1;32m     98\u001b[0m             raise ValueError(\"Label shape {} not compatible with array shape {}\".format(\n",
      "\u001b[0;31mValueError\u001b[0m: Labels must be a Vector"
     ]
    }
   ],
   "source": [
    "%%time\n",
    "from sagemaker.amazon.common import write_numpy_to_dense_tensor\n",
    "import io\n",
    "import boto3\n",
    "\n",
    "data_key = 'kmeans_lowlevel_example/data'\n",
    "data_location = 's3://{}/{}'.format(bucket, data_key)\n",
    "print('training data will be uploaded to: {}'.format(data_location))\n",
    "\n",
    "# Convert the training data into the format required by the SageMaker KMeans algorithm\n",
    "buf = io.BytesIO()\n",
    "write_numpy_to_dense_tensor(buf, np.reshape(train_set[0:,1],-1), np.reshape(train_set[0:,0], -1))\n",
    "buf.seek(0)\n",
    "\n",
    "boto3.resource('s3').Bucket(bucket).Object(data_key).upload_fileobj(buf)"
   ]
  },
  {
   "cell_type": "code",
   "execution_count": 15,
   "metadata": {},
   "outputs": [
    {
     "name": "stdout",
     "output_type": "stream",
     "text": [
      "[['rebelle' 'perseverant' 'rebelle' 'travaillomane' 'travaillomane'\n",
      "  'perseverant' 'promoteur' 'rebelle' 'rebelle' 'rebelle' 'promoteur'\n",
      "  'promoteur' 'reveur' 'promoteur' 'perseverant' 'promoteur' 'promoteur'\n",
      "  'travaillomane' 'travaillomane' 'promoteur' 'rebelle' 'promoteur'\n",
      "  'promoteur' 'travaillomane' 'travaillomane' 'promoteur' 'travaillomane'\n",
      "  'promoteur' 'promoteur' 'reveur' 'promoteur' 'promoteur' 'promoteur'\n",
      "  'empathie' 'travaillomane' 'perseverant' 'rebelle' 'reveur'\n",
      "  'perseverant' 'reveur' 'empathie' 'promoteur' 'travaillomane' 'reveur'\n",
      "  'empathie' 'reveur' 'perseverant' 'rebelle' 'empathie' 'reveur'\n",
      "  'rebelle' 'promoteur' 'empathie' 'reveur' 'rebelle' 'rebelle' 'reveur'\n",
      "  'rebelle' 'rebelle' 'rebelle' 'reveur' 'travaillomane' 'travaillomane'\n",
      "  'empathie' 'promoteur' 'rebelle' 'perseverant' 'rebelle'\n",
      "  'travaillomane' 'travaillomane' 'rebelle' 'travaillomane' 'promoteur'\n",
      "  'perseverant' 'travaillomane' 'empathie' 'rebelle' 'empathie'\n",
      "  'perseverant' 'perseverant' 'rebelle' 'travaillomane' 'travaillomane'\n",
      "  'promoteur' 'promoteur' 'travaillomane' 'travaillomane' 'travaillomane'\n",
      "  'promoteur' 'promoteur' 'rebelle' 'rebelle' 'travaillomane'\n",
      "  'perseverant' 'travaillomane' 'travaillomane' 'travaillomane'\n",
      "  'travaillomane' 'travaillomane' 'empathie' 'promoteur' 'empathie'\n",
      "  'empathie' 'reveur' 'reveur' 'reveur' 'reveur' 'reveur' 'reveur'\n",
      "  'empathie' 'empathie' 'promoteur' 'promoteur' 'promoteur' 'rebelle'\n",
      "  'promoteur' 'promoteur' 'perseverant' 'rebelle' 'rebelle' 'rebelle'\n",
      "  'rebelle' 'rebelle' 'rebelle' 'reveur' 'empathie' 'travaillomane'\n",
      "  'perseverant' 'perseverant' 'perseverant' 'perseverant' 'perseverant'\n",
      "  'promoteur' 'empathie' 'promoteur' 'perseverant' 'perseverant'\n",
      "  'empathie' 'travaillomane' 'perseverant' 'reveur' 'empathie' 'empathie'\n",
      "  'travaillomane' 'reveur' 'perseverant' 'perseverant' 'travaillomane'\n",
      "  'travaillomane' 'promoteur' 'reveur' 'reveur' 'promoteur' 'promoteur'\n",
      "  'empathie' 'promoteur' 'rebelle' 'empathie' 'perseverant' 'empathie'\n",
      "  'perseverant' 'empathie' 'perseverant' 'promoteur' 'perseverant'\n",
      "  'rebelle' 'empathie' 'empathie' 'promoteur' 'travaillomane' 'empathie'\n",
      "  'rebelle' 'perseverant' 'reveur' 'perseverant' 'rebelle' 'perseverant'\n",
      "  'perseverant' 'promoteur' 'empathie' 'empathie' 'empathie' 'empathie'\n",
      "  'reveur' 'perseverant' 'perseverant' 'empathie' 'perseverant' 'reveur'\n",
      "  'empathie' 'empathie' 'empathie' 'empathie' 'perseverant' 'perseverant'\n",
      "  'perseverant' 'perseverant' 'perseverant' 'empathie' 'promoteur'\n",
      "  'reveur' 'reveur' 'promoteur' 'perseverant' 'perseverant' 'perseverant'\n",
      "  'reveur' 'perseverant' 'empathie' 'reveur' 'reveur' 'perseverant'\n",
      "  'perseverant' 'perseverant' 'perseverant' 'empathie' 'travaillomane'\n",
      "  'empathie' 'reveur' 'perseverant' 'reveur' 'empathie' 'empathie'\n",
      "  'reveur' 'reveur' 'perseverant' 'rebelle' 'empathie' 'empathie'\n",
      "  'rebelle' 'reveur' 'perseverant' 'perseverant' 'perseverant'\n",
      "  'perseverant' 'perseverant' 'empathie' 'travaillomane' 'travaillomane'\n",
      "  'reveur' 'rebelle' 'perseverant' 'perseverant' 'perseverant' 'empathie'\n",
      "  'perseverant' 'empathie' 'empathie' 'empathie' 'empathie' 'empathie'\n",
      "  'empathie' 'empathie' 'empathie' 'perseverant' 'perseverant' 'reveur'\n",
      "  'empathie' 'empathie' 'empathie' 'reveur' 'perseverant' 'perseverant'\n",
      "  'perseverant' 'empathie' 'empathie' 'perseverant' 'empathie' 'empathie'\n",
      "  'perseverant' 'empathie' 'perseverant' 'perseverant' 'empathie'\n",
      "  'promoteur' 'empathie' 'perseverant' 'reveur' 'empathie' 'perseverant'\n",
      "  'promoteur' 'perseverant' 'perseverant' 'empathie' 'perseverant'\n",
      "  'reveur' 'empathie' 'reveur' 'rebelle' 'reveur' 'promoteur' 'promoteur'\n",
      "  'perseverant' 'perseverant' 'rebelle' 'perseverant' 'perseverant'\n",
      "  'empathie' 'empathie' 'travaillomane' 'empathie' 'empathie' 'reveur'\n",
      "  'empathie' 'empathie' 'reveur' 'empathie' 'perseverant' 'travaillomane'\n",
      "  'reveur' 'reveur' 'perseverant' 'promoteur' 'rebelle' 'rebelle'\n",
      "  'travaillomane' 'rebelle' 'travaillomane' 'travaillomane'\n",
      "  'travaillomane' 'promoteur' 'travaillomane' 'reveur' 'reveur'\n",
      "  'travaillomane' 'travaillomane' 'travaillomane' 'promoteur' 'promoteur'\n",
      "  'travaillomane' 'travaillomane' 'promoteur' 'promoteur' 'empathie'\n",
      "  ' sentiment ' 'travaillomane' 'empathie' 'travaillomane'\n",
      "  'travaillomane' 'promoteur' 'rebelle' 'perseverant' 'travaillomane'\n",
      "  'rebelle' 'travaillomane' 'perseverant' 'reveur' 'promoteur' 'empathie'\n",
      "  'rebelle' 'reveur' 'rebelle' 'promoteur' 'reveur' 'rebelle' 'empathie'\n",
      "  'travaillomane' 'rebelle' 'perseverant' 'promoteur' 'promoteur'\n",
      "  'travaillomane' 'promoteur' 'travaillomane' 'reveur' 'promoteur'\n",
      "  'rebelle' 'reveur' 'rebelle' 'promoteur' 'perseverant' 'reveur'\n",
      "  'rebelle' 'empathie' 'reveur' 'reveur' 'promoteur' 'rebelle' 'reveur'\n",
      "  'reveur' 'reveur' 'travaillomane' 'rebelle' 'rebelle' 'rebelle'\n",
      "  'travaillomane' 'promoteur' 'reveur' 'promoteur' 'promoteur'\n",
      "  'travaillomane' 'empathie' 'reveur' 'reveur' 'reveur' 'reveur'\n",
      "  'rebelle' 'empathie' 'travaillomane' 'travaillomane' 'travaillomane'\n",
      "  'travaillomane' 'travaillomane' 'travaillomane' 'travaillomane'\n",
      "  'travaillomane' 'rebelle' 'promoteur' 'reveur' 'promoteur' 'promoteur'\n",
      "  'reveur' 'travaillomane' 'promoteur' 'rebelle' 'promoteur' 'rebelle'\n",
      "  'travaillomane' 'rebelle' 'perseverant' 'travaillomane' 'perseverant'\n",
      "  'empathie' 'perseverant' 'travaillomane' 'perseverant' 'perseverant'\n",
      "  'travaillomane' 'travaillomane' 'travaillomane' 'rebelle' 'empathie'\n",
      "  'reveur' 'rebelle' 'promoteur' 'promoteur' 'promoteur' 'rebelle'\n",
      "  'promoteur' 'empathie' 'promoteur' 'rebelle' 'rebelle' 'rebelle'\n",
      "  'promoteur' 'reveur' 'travaillomane' 'reveur' 'travaillomane'\n",
      "  'empathie' 'empathie' 'rebelle' 'rebelle' 'promoteur' 'promoteur'\n",
      "  'empathie' 'empathie' 'travaillomane' 'rebelle' 'rebelle' 'rebelle'\n",
      "  'rebelle' 'rebelle' 'rebelle' 'empathie' 'reveur' 'travaillomane'\n",
      "  'travaillomane' 'promoteur' 'empathie' 'travaillomane' 'reveur'\n",
      "  'rebelle' 'perseverant' 'promoteur' 'empathie' 'perseverant' 'rebelle'\n",
      "  'travaillomane' 'rebelle' 'empathie' 'empathie' 'promoteur'\n",
      "  'perseverant' 'empathie' 'promoteur' 'promoteur' 'rebelle' 'rebelle'\n",
      "  'promoteur' 'promoteur' 'promoteur' 'promoteur' 'empathie' 'promoteur'\n",
      "  'travaillomane' 'travaillomane' 'promoteur' 'promoteur' 'reveur'\n",
      "  'travaillomane' 'perseverant' 'travaillomane' 'perseverant' 'empathie'\n",
      "  'rebelle' 'perseverant' 'rebelle' 'rebelle' 'rebelle' 'rebelle']]\n"
     ]
    }
   ],
   "source": [
    "print(np.reshape(train_set[0:,0],-1))"
   ]
  },
  {
   "cell_type": "code",
   "execution_count": null,
   "metadata": {},
   "outputs": [],
   "source": []
  }
 ],
 "metadata": {
  "kernelspec": {
   "display_name": "conda_tensorflow_p36",
   "language": "python",
   "name": "conda_tensorflow_p36"
  },
  "language_info": {
   "codemirror_mode": {
    "name": "ipython",
    "version": 3
   },
   "file_extension": ".py",
   "mimetype": "text/x-python",
   "name": "python",
   "nbconvert_exporter": "python",
   "pygments_lexer": "ipython3",
   "version": "3.6.4"
  }
 },
 "nbformat": 4,
 "nbformat_minor": 2
}
